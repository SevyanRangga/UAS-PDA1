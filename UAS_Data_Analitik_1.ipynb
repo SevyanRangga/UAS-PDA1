{
  "nbformat": 4,
  "nbformat_minor": 0,
  "metadata": {
    "colab": {
      "provenance": []
    },
    "kernelspec": {
      "name": "python3",
      "display_name": "Python 3"
    },
    "language_info": {
      "name": "python"
    }
  },
  "cells": [
    {
      "cell_type": "markdown",
      "source": [
        "# **UAS PEMOGRAMAN DATA ANALITIK 1**\n",
        "\n",
        "\n",
        "*   NAMA : SEVYAN RANGGA INFARI\n",
        "*   NIM : 41822120017\n",
        "*   FAKULTAS : ILMU KOMPUTER\n",
        "*   PRODI : SISTEM INFORMASI\n",
        "\n",
        "\n",
        "\n"
      ],
      "metadata": {
        "id": "j00J1xHfcz3x"
      }
    },
    {
      "cell_type": "markdown",
      "source": [
        "# 1. MEMBUAT DATASET & TENTUKAN VARIABEL"
      ],
      "metadata": {
        "id": "r0-ZfFS0PQwx"
      }
    },
    {
      "cell_type": "code",
      "source": [
        "# Membuat dataset\n",
        "import pandas as pd\n",
        "\n",
        "data = {\n",
        "    'Pendapatan': [5500, 7000, 10000, 8000, 9500, 9000, 10500, 11000, 15000, 25000],\n",
        "    'Pengeluaran': [4, 5, 8, 7, 7.5, 8, 10, 12, 17, 20]\n",
        "}\n",
        "\n",
        "df = pd.DataFrame(data)\n",
        "df"
      ],
      "metadata": {
        "colab": {
          "base_uri": "https://localhost:8080/",
          "height": 363
        },
        "id": "mLDjcS8qPVMK",
        "outputId": "c8fc32d0-4857-4ed2-e21b-8a8eea928d43"
      },
      "execution_count": 5,
      "outputs": [
        {
          "output_type": "execute_result",
          "data": {
            "text/plain": [
              "   Pendapatan  Pengeluaran\n",
              "0        5500          4.0\n",
              "1        7000          5.0\n",
              "2       10000          8.0\n",
              "3        8000          7.0\n",
              "4        9500          7.5\n",
              "5        9000          8.0\n",
              "6       10500         10.0\n",
              "7       11000         12.0\n",
              "8       15000         17.0\n",
              "9       25000         20.0"
            ],
            "text/html": [
              "\n",
              "  <div id=\"df-f730e8a1-e108-47ae-a03d-54fa1a642263\" class=\"colab-df-container\">\n",
              "    <div>\n",
              "<style scoped>\n",
              "    .dataframe tbody tr th:only-of-type {\n",
              "        vertical-align: middle;\n",
              "    }\n",
              "\n",
              "    .dataframe tbody tr th {\n",
              "        vertical-align: top;\n",
              "    }\n",
              "\n",
              "    .dataframe thead th {\n",
              "        text-align: right;\n",
              "    }\n",
              "</style>\n",
              "<table border=\"1\" class=\"dataframe\">\n",
              "  <thead>\n",
              "    <tr style=\"text-align: right;\">\n",
              "      <th></th>\n",
              "      <th>Pendapatan</th>\n",
              "      <th>Pengeluaran</th>\n",
              "    </tr>\n",
              "  </thead>\n",
              "  <tbody>\n",
              "    <tr>\n",
              "      <th>0</th>\n",
              "      <td>5500</td>\n",
              "      <td>4.0</td>\n",
              "    </tr>\n",
              "    <tr>\n",
              "      <th>1</th>\n",
              "      <td>7000</td>\n",
              "      <td>5.0</td>\n",
              "    </tr>\n",
              "    <tr>\n",
              "      <th>2</th>\n",
              "      <td>10000</td>\n",
              "      <td>8.0</td>\n",
              "    </tr>\n",
              "    <tr>\n",
              "      <th>3</th>\n",
              "      <td>8000</td>\n",
              "      <td>7.0</td>\n",
              "    </tr>\n",
              "    <tr>\n",
              "      <th>4</th>\n",
              "      <td>9500</td>\n",
              "      <td>7.5</td>\n",
              "    </tr>\n",
              "    <tr>\n",
              "      <th>5</th>\n",
              "      <td>9000</td>\n",
              "      <td>8.0</td>\n",
              "    </tr>\n",
              "    <tr>\n",
              "      <th>6</th>\n",
              "      <td>10500</td>\n",
              "      <td>10.0</td>\n",
              "    </tr>\n",
              "    <tr>\n",
              "      <th>7</th>\n",
              "      <td>11000</td>\n",
              "      <td>12.0</td>\n",
              "    </tr>\n",
              "    <tr>\n",
              "      <th>8</th>\n",
              "      <td>15000</td>\n",
              "      <td>17.0</td>\n",
              "    </tr>\n",
              "    <tr>\n",
              "      <th>9</th>\n",
              "      <td>25000</td>\n",
              "      <td>20.0</td>\n",
              "    </tr>\n",
              "  </tbody>\n",
              "</table>\n",
              "</div>\n",
              "    <div class=\"colab-df-buttons\">\n",
              "\n",
              "  <div class=\"colab-df-container\">\n",
              "    <button class=\"colab-df-convert\" onclick=\"convertToInteractive('df-f730e8a1-e108-47ae-a03d-54fa1a642263')\"\n",
              "            title=\"Convert this dataframe to an interactive table.\"\n",
              "            style=\"display:none;\">\n",
              "\n",
              "  <svg xmlns=\"http://www.w3.org/2000/svg\" height=\"24px\" viewBox=\"0 -960 960 960\">\n",
              "    <path d=\"M120-120v-720h720v720H120Zm60-500h600v-160H180v160Zm220 220h160v-160H400v160Zm0 220h160v-160H400v160ZM180-400h160v-160H180v160Zm440 0h160v-160H620v160ZM180-180h160v-160H180v160Zm440 0h160v-160H620v160Z\"/>\n",
              "  </svg>\n",
              "    </button>\n",
              "\n",
              "  <style>\n",
              "    .colab-df-container {\n",
              "      display:flex;\n",
              "      gap: 12px;\n",
              "    }\n",
              "\n",
              "    .colab-df-convert {\n",
              "      background-color: #E8F0FE;\n",
              "      border: none;\n",
              "      border-radius: 50%;\n",
              "      cursor: pointer;\n",
              "      display: none;\n",
              "      fill: #1967D2;\n",
              "      height: 32px;\n",
              "      padding: 0 0 0 0;\n",
              "      width: 32px;\n",
              "    }\n",
              "\n",
              "    .colab-df-convert:hover {\n",
              "      background-color: #E2EBFA;\n",
              "      box-shadow: 0px 1px 2px rgba(60, 64, 67, 0.3), 0px 1px 3px 1px rgba(60, 64, 67, 0.15);\n",
              "      fill: #174EA6;\n",
              "    }\n",
              "\n",
              "    .colab-df-buttons div {\n",
              "      margin-bottom: 4px;\n",
              "    }\n",
              "\n",
              "    [theme=dark] .colab-df-convert {\n",
              "      background-color: #3B4455;\n",
              "      fill: #D2E3FC;\n",
              "    }\n",
              "\n",
              "    [theme=dark] .colab-df-convert:hover {\n",
              "      background-color: #434B5C;\n",
              "      box-shadow: 0px 1px 3px 1px rgba(0, 0, 0, 0.15);\n",
              "      filter: drop-shadow(0px 1px 2px rgba(0, 0, 0, 0.3));\n",
              "      fill: #FFFFFF;\n",
              "    }\n",
              "  </style>\n",
              "\n",
              "    <script>\n",
              "      const buttonEl =\n",
              "        document.querySelector('#df-f730e8a1-e108-47ae-a03d-54fa1a642263 button.colab-df-convert');\n",
              "      buttonEl.style.display =\n",
              "        google.colab.kernel.accessAllowed ? 'block' : 'none';\n",
              "\n",
              "      async function convertToInteractive(key) {\n",
              "        const element = document.querySelector('#df-f730e8a1-e108-47ae-a03d-54fa1a642263');\n",
              "        const dataTable =\n",
              "          await google.colab.kernel.invokeFunction('convertToInteractive',\n",
              "                                                    [key], {});\n",
              "        if (!dataTable) return;\n",
              "\n",
              "        const docLinkHtml = 'Like what you see? Visit the ' +\n",
              "          '<a target=\"_blank\" href=https://colab.research.google.com/notebooks/data_table.ipynb>data table notebook</a>'\n",
              "          + ' to learn more about interactive tables.';\n",
              "        element.innerHTML = '';\n",
              "        dataTable['output_type'] = 'display_data';\n",
              "        await google.colab.output.renderOutput(dataTable, element);\n",
              "        const docLink = document.createElement('div');\n",
              "        docLink.innerHTML = docLinkHtml;\n",
              "        element.appendChild(docLink);\n",
              "      }\n",
              "    </script>\n",
              "  </div>\n",
              "\n",
              "\n",
              "    <div id=\"df-6f4d8c7e-c5f9-4429-8cd8-cf400045f6e4\">\n",
              "      <button class=\"colab-df-quickchart\" onclick=\"quickchart('df-6f4d8c7e-c5f9-4429-8cd8-cf400045f6e4')\"\n",
              "                title=\"Suggest charts\"\n",
              "                style=\"display:none;\">\n",
              "\n",
              "<svg xmlns=\"http://www.w3.org/2000/svg\" height=\"24px\"viewBox=\"0 0 24 24\"\n",
              "     width=\"24px\">\n",
              "    <g>\n",
              "        <path d=\"M19 3H5c-1.1 0-2 .9-2 2v14c0 1.1.9 2 2 2h14c1.1 0 2-.9 2-2V5c0-1.1-.9-2-2-2zM9 17H7v-7h2v7zm4 0h-2V7h2v10zm4 0h-2v-4h2v4z\"/>\n",
              "    </g>\n",
              "</svg>\n",
              "      </button>\n",
              "\n",
              "<style>\n",
              "  .colab-df-quickchart {\n",
              "      --bg-color: #E8F0FE;\n",
              "      --fill-color: #1967D2;\n",
              "      --hover-bg-color: #E2EBFA;\n",
              "      --hover-fill-color: #174EA6;\n",
              "      --disabled-fill-color: #AAA;\n",
              "      --disabled-bg-color: #DDD;\n",
              "  }\n",
              "\n",
              "  [theme=dark] .colab-df-quickchart {\n",
              "      --bg-color: #3B4455;\n",
              "      --fill-color: #D2E3FC;\n",
              "      --hover-bg-color: #434B5C;\n",
              "      --hover-fill-color: #FFFFFF;\n",
              "      --disabled-bg-color: #3B4455;\n",
              "      --disabled-fill-color: #666;\n",
              "  }\n",
              "\n",
              "  .colab-df-quickchart {\n",
              "    background-color: var(--bg-color);\n",
              "    border: none;\n",
              "    border-radius: 50%;\n",
              "    cursor: pointer;\n",
              "    display: none;\n",
              "    fill: var(--fill-color);\n",
              "    height: 32px;\n",
              "    padding: 0;\n",
              "    width: 32px;\n",
              "  }\n",
              "\n",
              "  .colab-df-quickchart:hover {\n",
              "    background-color: var(--hover-bg-color);\n",
              "    box-shadow: 0 1px 2px rgba(60, 64, 67, 0.3), 0 1px 3px 1px rgba(60, 64, 67, 0.15);\n",
              "    fill: var(--button-hover-fill-color);\n",
              "  }\n",
              "\n",
              "  .colab-df-quickchart-complete:disabled,\n",
              "  .colab-df-quickchart-complete:disabled:hover {\n",
              "    background-color: var(--disabled-bg-color);\n",
              "    fill: var(--disabled-fill-color);\n",
              "    box-shadow: none;\n",
              "  }\n",
              "\n",
              "  .colab-df-spinner {\n",
              "    border: 2px solid var(--fill-color);\n",
              "    border-color: transparent;\n",
              "    border-bottom-color: var(--fill-color);\n",
              "    animation:\n",
              "      spin 1s steps(1) infinite;\n",
              "  }\n",
              "\n",
              "  @keyframes spin {\n",
              "    0% {\n",
              "      border-color: transparent;\n",
              "      border-bottom-color: var(--fill-color);\n",
              "      border-left-color: var(--fill-color);\n",
              "    }\n",
              "    20% {\n",
              "      border-color: transparent;\n",
              "      border-left-color: var(--fill-color);\n",
              "      border-top-color: var(--fill-color);\n",
              "    }\n",
              "    30% {\n",
              "      border-color: transparent;\n",
              "      border-left-color: var(--fill-color);\n",
              "      border-top-color: var(--fill-color);\n",
              "      border-right-color: var(--fill-color);\n",
              "    }\n",
              "    40% {\n",
              "      border-color: transparent;\n",
              "      border-right-color: var(--fill-color);\n",
              "      border-top-color: var(--fill-color);\n",
              "    }\n",
              "    60% {\n",
              "      border-color: transparent;\n",
              "      border-right-color: var(--fill-color);\n",
              "    }\n",
              "    80% {\n",
              "      border-color: transparent;\n",
              "      border-right-color: var(--fill-color);\n",
              "      border-bottom-color: var(--fill-color);\n",
              "    }\n",
              "    90% {\n",
              "      border-color: transparent;\n",
              "      border-bottom-color: var(--fill-color);\n",
              "    }\n",
              "  }\n",
              "</style>\n",
              "\n",
              "      <script>\n",
              "        async function quickchart(key) {\n",
              "          const quickchartButtonEl =\n",
              "            document.querySelector('#' + key + ' button');\n",
              "          quickchartButtonEl.disabled = true;  // To prevent multiple clicks.\n",
              "          quickchartButtonEl.classList.add('colab-df-spinner');\n",
              "          try {\n",
              "            const charts = await google.colab.kernel.invokeFunction(\n",
              "                'suggestCharts', [key], {});\n",
              "          } catch (error) {\n",
              "            console.error('Error during call to suggestCharts:', error);\n",
              "          }\n",
              "          quickchartButtonEl.classList.remove('colab-df-spinner');\n",
              "          quickchartButtonEl.classList.add('colab-df-quickchart-complete');\n",
              "        }\n",
              "        (() => {\n",
              "          let quickchartButtonEl =\n",
              "            document.querySelector('#df-6f4d8c7e-c5f9-4429-8cd8-cf400045f6e4 button');\n",
              "          quickchartButtonEl.style.display =\n",
              "            google.colab.kernel.accessAllowed ? 'block' : 'none';\n",
              "        })();\n",
              "      </script>\n",
              "    </div>\n",
              "\n",
              "  <div id=\"id_52e6e5d5-9950-4627-b172-d125f0a7564e\">\n",
              "    <style>\n",
              "      .colab-df-generate {\n",
              "        background-color: #E8F0FE;\n",
              "        border: none;\n",
              "        border-radius: 50%;\n",
              "        cursor: pointer;\n",
              "        display: none;\n",
              "        fill: #1967D2;\n",
              "        height: 32px;\n",
              "        padding: 0 0 0 0;\n",
              "        width: 32px;\n",
              "      }\n",
              "\n",
              "      .colab-df-generate:hover {\n",
              "        background-color: #E2EBFA;\n",
              "        box-shadow: 0px 1px 2px rgba(60, 64, 67, 0.3), 0px 1px 3px 1px rgba(60, 64, 67, 0.15);\n",
              "        fill: #174EA6;\n",
              "      }\n",
              "\n",
              "      [theme=dark] .colab-df-generate {\n",
              "        background-color: #3B4455;\n",
              "        fill: #D2E3FC;\n",
              "      }\n",
              "\n",
              "      [theme=dark] .colab-df-generate:hover {\n",
              "        background-color: #434B5C;\n",
              "        box-shadow: 0px 1px 3px 1px rgba(0, 0, 0, 0.15);\n",
              "        filter: drop-shadow(0px 1px 2px rgba(0, 0, 0, 0.3));\n",
              "        fill: #FFFFFF;\n",
              "      }\n",
              "    </style>\n",
              "    <button class=\"colab-df-generate\" onclick=\"generateWithVariable('df')\"\n",
              "            title=\"Generate code using this dataframe.\"\n",
              "            style=\"display:none;\">\n",
              "\n",
              "  <svg xmlns=\"http://www.w3.org/2000/svg\" height=\"24px\"viewBox=\"0 0 24 24\"\n",
              "       width=\"24px\">\n",
              "    <path d=\"M7,19H8.4L18.45,9,17,7.55,7,17.6ZM5,21V16.75L18.45,3.32a2,2,0,0,1,2.83,0l1.4,1.43a1.91,1.91,0,0,1,.58,1.4,1.91,1.91,0,0,1-.58,1.4L9.25,21ZM18.45,9,17,7.55Zm-12,3A5.31,5.31,0,0,0,4.9,8.1,5.31,5.31,0,0,0,1,6.5,5.31,5.31,0,0,0,4.9,4.9,5.31,5.31,0,0,0,6.5,1,5.31,5.31,0,0,0,8.1,4.9,5.31,5.31,0,0,0,12,6.5,5.46,5.46,0,0,0,6.5,12Z\"/>\n",
              "  </svg>\n",
              "    </button>\n",
              "    <script>\n",
              "      (() => {\n",
              "      const buttonEl =\n",
              "        document.querySelector('#id_52e6e5d5-9950-4627-b172-d125f0a7564e button.colab-df-generate');\n",
              "      buttonEl.style.display =\n",
              "        google.colab.kernel.accessAllowed ? 'block' : 'none';\n",
              "\n",
              "      buttonEl.onclick = () => {\n",
              "        google.colab.notebook.generateWithVariable('df');\n",
              "      }\n",
              "      })();\n",
              "    </script>\n",
              "  </div>\n",
              "\n",
              "    </div>\n",
              "  </div>\n"
            ],
            "application/vnd.google.colaboratory.intrinsic+json": {
              "type": "dataframe",
              "variable_name": "df",
              "summary": "{\n  \"name\": \"df\",\n  \"rows\": 10,\n  \"fields\": [\n    {\n      \"column\": \"Pendapatan\",\n      \"properties\": {\n        \"dtype\": \"number\",\n        \"std\": 5524,\n        \"min\": 5500,\n        \"max\": 25000,\n        \"num_unique_values\": 10,\n        \"samples\": [\n          15000,\n          7000,\n          9000\n        ],\n        \"semantic_type\": \"\",\n        \"description\": \"\"\n      }\n    },\n    {\n      \"column\": \"Pengeluaran\",\n      \"properties\": {\n        \"dtype\": \"number\",\n        \"std\": 5.131872086394117,\n        \"min\": 4.0,\n        \"max\": 20.0,\n        \"num_unique_values\": 9,\n        \"samples\": [\n          17.0,\n          5.0,\n          10.0\n        ],\n        \"semantic_type\": \"\",\n        \"description\": \"\"\n      }\n    }\n  ]\n}"
            }
          },
          "metadata": {},
          "execution_count": 5
        }
      ]
    },
    {
      "cell_type": "markdown",
      "source": [
        "VARIABEL :\n",
        "\n",
        "*   Variabel Independen (X) = Pendapatan\n",
        "*   Variabel Dependen (Y) = Pengeluaran\n",
        "\n"
      ],
      "metadata": {
        "id": "DzjnQYAKP4tN"
      }
    },
    {
      "cell_type": "markdown",
      "source": [
        "# 2. Membuat gambar grafik menggunakan pemrograman Python"
      ],
      "metadata": {
        "id": "oRckMvz1RGWj"
      }
    },
    {
      "cell_type": "markdown",
      "source": [
        "## A. Grafik Scatter"
      ],
      "metadata": {
        "id": "EuCExcbaXcaH"
      }
    },
    {
      "cell_type": "code",
      "source": [
        "import matplotlib.pyplot as plt\n",
        "\n",
        "plt.figure(figsize=(8, 5))\n",
        "plt.scatter(df['Pendapatan'], df['Pengeluaran'], color='blue')\n",
        "plt.title('Grafik Pendapatan vs Pengeluaran')\n",
        "plt.xlabel('Pendapatan (Ribu Rp)')\n",
        "plt.ylabel('Pengeluaran (Juta Rp)')\n",
        "plt.grid(True)\n",
        "plt.show()"
      ],
      "metadata": {
        "colab": {
          "base_uri": "https://localhost:8080/",
          "height": 487
        },
        "id": "DEYYi52-RXMY",
        "outputId": "935323f4-2d57-4c41-ea55-43d84ac787ec"
      },
      "execution_count": 6,
      "outputs": [
        {
          "output_type": "display_data",
          "data": {
            "text/plain": [
              "<Figure size 800x500 with 1 Axes>"
            ],
            "image/png": "[encoded data removed]"
          },
          "metadata": {}
        }
      ]
    },
    {
      "cell_type": "markdown",
      "source": [
        "## B. Grafik Regresi"
      ],
      "metadata": {
        "id": "9ZfQ9VrwX1yz"
      }
    },
    {
      "cell_type": "code",
      "source": [
        "# Grafik dengan garis regresi\n",
        "plt.figure(figsize=(8, 5))\n",
        "plt.scatter(X, y, color='blue', label='Data Aktual')\n",
        "plt.plot(X, model.predict(X), color='red', label='Garis Regresi Linear')\n",
        "plt.title('Pendapatan vs Pengeluaran (dengan Regresi)')\n",
        "plt.xlabel('Pendapatan (Ribu Rp)')\n",
        "plt.ylabel('Pengeluaran (Juta Rp)')\n",
        "plt.legend()\n",
        "plt.grid(True)\n",
        "plt.show()"
      ],
      "metadata": {
        "colab": {
          "base_uri": "https://localhost:8080/",
          "height": 487
        },
        "id": "jdPIYu_oYDNy",
        "outputId": "a2e7f4fb-af92-4814-fbef-93273e33dc76"
      },
      "execution_count": 13,
      "outputs": [
        {
          "output_type": "display_data",
          "data": {
            "text/plain": [
              "<Figure size 800x500 with 1 Axes>"
            ],
            "image/png": "[encoded data removed]"
          },
          "metadata": {}
        }
      ]
    },
    {
      "cell_type": "markdown",
      "source": [
        "Grafik di atas memperlihatkan garis regresi (merah) yang menunjukkan tren antara pendapatan dan pengeluaran. Garis ini menggambarkan model prediksi yang telah dibuat berdasarkan data yang tersedia."
      ],
      "metadata": {
        "id": "updFfnU9cD_9"
      }
    },
    {
      "cell_type": "markdown",
      "source": [
        "# 3. Membuat persamaan model regresi menggunakan pemrograman Python"
      ],
      "metadata": {
        "id": "d5Z7OS-JR1Vp"
      }
    },
    {
      "cell_type": "code",
      "source": [
        "from sklearn.linear_model import LinearRegression\n",
        "\n",
        "X = df[['Pendapatan']]\n",
        "y = df['Pengeluaran']\n",
        "\n",
        "model = LinearRegression()\n",
        "model.fit(X, y)\n",
        "\n",
        "slope = model.coef_[0]\n",
        "intercept = model.intercept_\n",
        "\n",
        "print(f\"Persamaan regresi: Y = {slope:.4f}X + {intercept:.4f}\")"
      ],
      "metadata": {
        "colab": {
          "base_uri": "https://localhost:8080/",
          "height": 0
        },
        "id": "8fkB9z50SBe6",
        "outputId": "5b0c28c8-54ff-43db-d38f-fef30607290d"
      },
      "execution_count": 7,
      "outputs": [
        {
          "output_type": "stream",
          "name": "stdout",
          "text": [
            "Persamaan regresi: Y = 0.0009X + 0.2037\n"
          ]
        }
      ]
    },
    {
      "cell_type": "markdown",
      "source": [
        "# 4. Menjelaskan arti dari persamaan di atas :\n",
        "*   Koefisien slope menunjukkan bahwa setiap kenaikan 1 ribu rupiah pada pendapatan, maka pengeluaran naik sekitar 0.0009 juta rupiah (atau sekitar 900 rupiah).\n",
        "*   Intersep menunjukkan bahwa jika pendapatan 0, maka pengeluaran diperkirakan\n",
        "sekitar 0.2037 juta rupiah atau 203.700 rupiah."
      ],
      "metadata": {
        "id": "pVcTNRhDSHa3"
      }
    },
    {
      "cell_type": "markdown",
      "source": [
        "# 5. Apakah ada hubungan antara Pendapatan dan Pengeluaran, Menggunakan pemrograman Python untuk perhitungannya"
      ],
      "metadata": {
        "id": "kT9NuyudTP4v"
      }
    },
    {
      "cell_type": "code",
      "source": [
        "korelasi = df.corr().loc['Pendapatan', 'Pengeluaran']\n",
        "print(f\"Koefisien Korelasi: {korelasi:.4f}\")"
      ],
      "metadata": {
        "colab": {
          "base_uri": "https://localhost:8080/",
          "height": 0
        },
        "id": "aWynSDfKTfE-",
        "outputId": "4c45942f-6069-4b7b-f4bc-4f88209bb309"
      },
      "execution_count": 8,
      "outputs": [
        {
          "output_type": "stream",
          "name": "stdout",
          "text": [
            "Koefisien Korelasi: 0.9398\n"
          ]
        }
      ]
    },
    {
      "cell_type": "markdown",
      "source": [
        "# 6. Menjelaskan arti hubungan tersebut :\n",
        "Nilai korelasi mendekati 1 artinya ada hubungan sangat kuat dan positif antara pendapatan dan pengeluaran. Jika pendapatan naik, pengeluaran juga naik.\n"
      ],
      "metadata": {
        "id": "VK6RwA0RTxdc"
      }
    },
    {
      "cell_type": "markdown",
      "source": [
        "# 7. Memberikan contoh prediksi beserta hasilnya"
      ],
      "metadata": {
        "id": "N72n7N0DUYbz"
      }
    },
    {
      "cell_type": "code",
      "source": [
        "# Contoh prediksi: Pendapatan = 12000 ribu rupiah\n",
        "pendapatan_baru = pd.DataFrame({'Pendapatan': [12000]})\n",
        "\n",
        "# Gunakan model regresi sebelumnya\n",
        "prediksi = model.predict(pendapatan_baru)\n",
        "\n",
        "print(f\"Prediksi pengeluaran untuk pendapatan 12.000 ribu: {prediksi[0]:.2f} juta rupiah\")"
      ],
      "metadata": {
        "colab": {
          "base_uri": "https://localhost:8080/",
          "height": 0
        },
        "id": "iilGl6siTwbi",
        "outputId": "8aecc08e-cdcb-4340-a77a-dbbd66096b22"
      },
      "execution_count": 12,
      "outputs": [
        {
          "output_type": "stream",
          "name": "stdout",
          "text": [
            "Prediksi pengeluaran untuk pendapatan 12.000 ribu: 10.68 juta rupiah\n"
          ]
        }
      ]
    },
    {
      "cell_type": "markdown",
      "source": [
        "Dalam soal ini, kita diminta memberikan contoh prediksi berdasarkan model regresi linear yang sudah dibuat sebelumnya.\n",
        "\n",
        "Kita menggunakan data pendapatan sebesar 12.000 ribu rupiah sebagai input, kemudian menjalankan fungsi predict() dari model.\n",
        "\n",
        "Agar tidak muncul peringatan (warning), kita pastikan bahwa data input dibuat sebagai DataFrame dengan nama kolom yang sama persis seperti saat model dilatih, yaitu 'Pendapatan'.\n",
        "\n",
        "Hasil prediksi menunjukkan bahwa untuk pendapatan sebesar 12.000 ribu rupiah, pengeluaran diperkirakan sebesar 10.68 juta rupiah.\n",
        "\n",
        "Ini membuktikan bahwa model dapat digunakan untuk memprediksi pengeluaran dari nilai pendapatan lainnya."
      ],
      "metadata": {
        "id": "BuWxMEYzWgZ7"
      }
    }
  ]
}